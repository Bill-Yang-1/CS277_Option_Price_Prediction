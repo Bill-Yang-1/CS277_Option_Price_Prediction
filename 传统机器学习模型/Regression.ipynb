{
 "cells": [
  {
   "cell_type": "code",
   "execution_count": 153,
   "metadata": {},
   "outputs": [],
   "source": [
    "import pandas as pd\n",
    "import numpy as np\n",
    "\n",
    "from sklearn.model_selection import KFold ## for regression\n",
    "from sklearn.model_selection import train_test_split\n",
    "from sklearn.model_selection import StratifiedKFold ## recommended for classification\n",
    "\n",
    "\n",
    "from sklearn.linear_model import LinearRegression\n",
    "from sklearn.linear_model import LogisticRegression\n",
    "from sklearn.linear_model import Ridge, RidgeCV, Lasso, LassoCV\n",
    "from sklearn.discriminant_analysis import LinearDiscriminantAnalysis\n",
    "from sklearn.ensemble import RandomForestRegressor\n",
    "from sklearn.ensemble import RandomForestClassifier\n",
    "from sklearn.tree import DecisionTreeClassifier\n",
    "from sklearn.ensemble import RandomForestClassifier\n",
    "from sklearn.preprocessing import StandardScaler\n",
    "from sklearn.preprocessing import MinMaxScaler\n",
    "import lightgbm as lgb"
   ]
  },
  {
   "cell_type": "code",
   "execution_count": 154,
   "metadata": {},
   "outputs": [
    {
     "data": {
      "text/html": [
       "<div>\n",
       "<style scoped>\n",
       "    .dataframe tbody tr th:only-of-type {\n",
       "        vertical-align: middle;\n",
       "    }\n",
       "\n",
       "    .dataframe tbody tr th {\n",
       "        vertical-align: top;\n",
       "    }\n",
       "\n",
       "    .dataframe thead th {\n",
       "        text-align: right;\n",
       "    }\n",
       "</style>\n",
       "<table border=\"1\" class=\"dataframe\">\n",
       "  <thead>\n",
       "    <tr style=\"text-align: right;\">\n",
       "      <th></th>\n",
       "      <th>Day</th>\n",
       "      <th>S</th>\n",
       "      <th>T</th>\n",
       "      <th>K</th>\n",
       "      <th>Value</th>\n",
       "      <th>tau</th>\n",
       "      <th>rate</th>\n",
       "    </tr>\n",
       "  </thead>\n",
       "  <tbody>\n",
       "    <tr>\n",
       "      <th>0</th>\n",
       "      <td>44834.0</td>\n",
       "      <td>2.65</td>\n",
       "      <td>0.24384</td>\n",
       "      <td>2.50</td>\n",
       "      <td>0.2092</td>\n",
       "      <td>0.0191</td>\n",
       "      <td>1.06000</td>\n",
       "    </tr>\n",
       "    <tr>\n",
       "      <th>1</th>\n",
       "      <td>44834.0</td>\n",
       "      <td>2.65</td>\n",
       "      <td>0.24384</td>\n",
       "      <td>2.55</td>\n",
       "      <td>0.1734</td>\n",
       "      <td>0.0191</td>\n",
       "      <td>1.03922</td>\n",
       "    </tr>\n",
       "    <tr>\n",
       "      <th>2</th>\n",
       "      <td>44834.0</td>\n",
       "      <td>2.65</td>\n",
       "      <td>0.24384</td>\n",
       "      <td>2.60</td>\n",
       "      <td>0.1400</td>\n",
       "      <td>0.0191</td>\n",
       "      <td>1.01923</td>\n",
       "    </tr>\n",
       "    <tr>\n",
       "      <th>3</th>\n",
       "      <td>44834.0</td>\n",
       "      <td>2.65</td>\n",
       "      <td>0.24384</td>\n",
       "      <td>2.65</td>\n",
       "      <td>0.1111</td>\n",
       "      <td>0.0191</td>\n",
       "      <td>1.00000</td>\n",
       "    </tr>\n",
       "    <tr>\n",
       "      <th>4</th>\n",
       "      <td>44834.0</td>\n",
       "      <td>2.65</td>\n",
       "      <td>0.24384</td>\n",
       "      <td>2.70</td>\n",
       "      <td>0.0882</td>\n",
       "      <td>0.0191</td>\n",
       "      <td>0.98148</td>\n",
       "    </tr>\n",
       "    <tr>\n",
       "      <th>...</th>\n",
       "      <td>...</td>\n",
       "      <td>...</td>\n",
       "      <td>...</td>\n",
       "      <td>...</td>\n",
       "      <td>...</td>\n",
       "      <td>...</td>\n",
       "      <td>...</td>\n",
       "    </tr>\n",
       "    <tr>\n",
       "      <th>31729</th>\n",
       "      <td>44075.0</td>\n",
       "      <td>3.40</td>\n",
       "      <td>0.15616</td>\n",
       "      <td>3.40</td>\n",
       "      <td>0.1322</td>\n",
       "      <td>0.0250</td>\n",
       "      <td>1.00000</td>\n",
       "    </tr>\n",
       "    <tr>\n",
       "      <th>31730</th>\n",
       "      <td>44075.0</td>\n",
       "      <td>3.40</td>\n",
       "      <td>0.15616</td>\n",
       "      <td>3.50</td>\n",
       "      <td>0.0924</td>\n",
       "      <td>0.0250</td>\n",
       "      <td>0.97143</td>\n",
       "    </tr>\n",
       "    <tr>\n",
       "      <th>31731</th>\n",
       "      <td>44075.0</td>\n",
       "      <td>3.40</td>\n",
       "      <td>0.15616</td>\n",
       "      <td>3.60</td>\n",
       "      <td>0.0640</td>\n",
       "      <td>0.0250</td>\n",
       "      <td>0.94444</td>\n",
       "    </tr>\n",
       "    <tr>\n",
       "      <th>31732</th>\n",
       "      <td>44075.0</td>\n",
       "      <td>3.40</td>\n",
       "      <td>0.15616</td>\n",
       "      <td>3.70</td>\n",
       "      <td>0.0415</td>\n",
       "      <td>0.0250</td>\n",
       "      <td>0.91892</td>\n",
       "    </tr>\n",
       "    <tr>\n",
       "      <th>31733</th>\n",
       "      <td>44075.0</td>\n",
       "      <td>3.40</td>\n",
       "      <td>0.15616</td>\n",
       "      <td>3.80</td>\n",
       "      <td>0.0284</td>\n",
       "      <td>0.0250</td>\n",
       "      <td>0.89474</td>\n",
       "    </tr>\n",
       "  </tbody>\n",
       "</table>\n",
       "<p>31734 rows × 7 columns</p>\n",
       "</div>"
      ],
      "text/plain": [
       "           Day     S        T     K   Value     tau     rate\n",
       "0      44834.0  2.65  0.24384  2.50  0.2092  0.0191  1.06000\n",
       "1      44834.0  2.65  0.24384  2.55  0.1734  0.0191  1.03922\n",
       "2      44834.0  2.65  0.24384  2.60  0.1400  0.0191  1.01923\n",
       "3      44834.0  2.65  0.24384  2.65  0.1111  0.0191  1.00000\n",
       "4      44834.0  2.65  0.24384  2.70  0.0882  0.0191  0.98148\n",
       "...        ...   ...      ...   ...     ...     ...      ...\n",
       "31729  44075.0  3.40  0.15616  3.40  0.1322  0.0250  1.00000\n",
       "31730  44075.0  3.40  0.15616  3.50  0.0924  0.0250  0.97143\n",
       "31731  44075.0  3.40  0.15616  3.60  0.0640  0.0250  0.94444\n",
       "31732  44075.0  3.40  0.15616  3.70  0.0415  0.0250  0.91892\n",
       "31733  44075.0  3.40  0.15616  3.80  0.0284  0.0250  0.89474\n",
       "\n",
       "[31734 rows x 7 columns]"
      ]
     },
     "execution_count": 154,
     "metadata": {},
     "output_type": "execute_result"
    }
   ],
   "source": [
    "df1 = pd.read_csv('UseData.csv')\n",
    "df1"
   ]
  },
  {
   "cell_type": "code",
   "execution_count": 155,
   "metadata": {},
   "outputs": [
    {
     "name": "stdout",
     "output_type": "stream",
     "text": [
      "Day      0\n",
      "S        0\n",
      "T        0\n",
      "K        0\n",
      "Value    0\n",
      "tau      0\n",
      "rate     0\n",
      "dtype: int64\n"
     ]
    },
    {
     "data": {
      "text/plain": [
       "(25947, 7)"
      ]
     },
     "execution_count": 155,
     "metadata": {},
     "output_type": "execute_result"
    }
   ],
   "source": [
    "print(df1.isnull().sum()) #判断是否有无效值NaN\n",
    "df1 = df1.dropna() # 删去无效值\n",
    "df1.drop(df1[(df1.rate >= 1.15)|(df1.rate < 0.85)].index, inplace = True)\n",
    "df1.shape"
   ]
  },
  {
   "cell_type": "code",
   "execution_count": 156,
   "metadata": {},
   "outputs": [],
   "source": [
    "X = df1.drop(['Day',\"Value\"],axis=1)\n",
    "Y = df1.Value"
   ]
  },
  {
   "cell_type": "markdown",
   "metadata": {},
   "source": [
    "## Regression"
   ]
  },
  {
   "cell_type": "markdown",
   "metadata": {},
   "source": [
    "### Linear regression"
   ]
  },
  {
   "cell_type": "code",
   "execution_count": 163,
   "metadata": {},
   "outputs": [
    {
     "name": "stdout",
     "output_type": "stream",
     "text": [
      "0.8955371274857625\n"
     ]
    }
   ],
   "source": [
    "X_train,X_test,Y_train,Y_test = train_test_split(X,Y,test_size=0.2)\n",
    "model_1 = LinearRegression()\n",
    "model_1.fit(X_train,Y_train)\n",
    "\n",
    "print(score)"
   ]
  },
  {
   "cell_type": "code",
   "execution_count": null,
   "metadata": {},
   "outputs": [],
   "source": [
    "kfolds_regresssion = KFold(n_splits = 5, random_state = 1, shuffle = True)"
   ]
  },
  {
   "cell_type": "markdown",
   "metadata": {},
   "source": [
    "### Linear Regression with kfold"
   ]
  },
  {
   "cell_type": "code",
   "execution_count": null,
   "metadata": {},
   "outputs": [
    {
     "name": "stdout",
     "output_type": "stream",
     "text": [
      "[ 0.23447729  0.16044321 -0.10036916 ... -0.01334972  0.0670222\n",
      "  0.22717377]\n",
      "[0.2092 0.14   0.0095 ... 0.0092 0.0849 0.2373]\n",
      "1 0.8962385680794289\n",
      "[0.09523595 0.06534297 0.03718962 ... 0.03911222 0.18783168 0.1429016 ]\n",
      "[0.0882 0.0672 0.051  ... 0.0654 0.186  0.1322]\n",
      "2 0.9013621699828137\n",
      "[ 0.12723973 -0.01393958  0.03423418 ...  0.2938814   0.10273229\n",
      "  0.06692784]\n",
      "[0.1111 0.0287 0.0707 ... 0.333  0.0924 0.064 ]\n",
      "3 0.8961483353341795\n",
      "[ 0.1969022  -0.03674869 -0.05870654 ...  0.18628685  0.23764489\n",
      "  0.00717663]\n",
      "[0.1734 0.0205 0.0162 ... 0.1979 0.2533 0.0284]\n",
      "4 0.8977962881116145\n",
      "[0.11329564 0.08507667 0.01014053 ... 0.2723927  0.09139896 0.03493473]\n",
      "[0.1231 0.1028 0.0584 ... 0.2826 0.1102 0.0415]\n",
      "5 0.898879005429418\n",
      "Mean Score of Linear Regression: 8980.84873387491\n"
     ]
    }
   ],
   "source": [
    "tot = 0\n",
    "niter = 0\n",
    "for train_index, test_index in KFold(n_splits = 5, random_state = 1, shuffle = True).split(X,Y):\n",
    "    X_train, X_test = X.iloc[train_index], X.iloc[test_index]\n",
    "    Y_train, Y_test = Y.iloc[train_index], Y.iloc[test_index]\n",
    "    model1 = LinearRegression()\n",
    "    model1.fit(X_train, Y_train)\n",
    "    \n",
    "    predictions = model1.predict(X_test)\n",
    "    # print(predictions)\n",
    "    # print(Y_test.values)\n",
    "    score = model1.score(X_test, Y_test)\n",
    "    tot += score\n",
    "    niter += 1\n",
    "    print(niter, score)\n",
    "print(f'Mean Score of Linear Regression:', tot/niter*10000)"
   ]
  },
  {
   "cell_type": "markdown",
   "metadata": {},
   "source": []
  }
 ],
 "metadata": {
  "kernelspec": {
   "display_name": "Python 3.8.12 ('py3.8')",
   "language": "python",
   "name": "python3"
  },
  "language_info": {
   "codemirror_mode": {
    "name": "ipython",
    "version": 3
   },
   "file_extension": ".py",
   "mimetype": "text/x-python",
   "name": "python",
   "nbconvert_exporter": "python",
   "pygments_lexer": "ipython3",
   "version": "3.8.12"
  },
  "orig_nbformat": 4,
  "vscode": {
   "interpreter": {
    "hash": "e4e8ee7b879dcc918bd54a713fcb0c9d24004d82ac7e0f9159c4283ae8536a7f"
   }
  }
 },
 "nbformat": 4,
 "nbformat_minor": 2
}
